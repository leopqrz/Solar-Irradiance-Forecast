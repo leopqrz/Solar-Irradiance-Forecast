version https://git-lfs.github.com/spec/v1
oid sha256:8990634e3a438b5c9e1c1040a1c4dfa49ace2c1a753f0af8d1e6aec5422f7166
size 394010
